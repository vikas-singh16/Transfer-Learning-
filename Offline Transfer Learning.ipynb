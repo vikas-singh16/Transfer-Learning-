{
 "cells": [
  {
   "cell_type": "code",
   "execution_count": 2,
   "metadata": {
    "executionInfo": {
     "elapsed": 2332,
     "status": "ok",
     "timestamp": 1623909166226,
     "user": {
      "displayName": "Axis India Machine Learning",
      "photoUrl": "https://lh3.googleusercontent.com/a-/AOh14Gj-ae171kd--3vHxZ1s3GOc45mMB1L-tiekBKF0pA=s64",
      "userId": "00282416292390226652"
     },
     "user_tz": -330
    },
    "id": "OcHBnes_IFQO"
   },
   "outputs": [
    {
     "ename": "ImportError",
     "evalue": "cannot import name 'Adam' from 'keras.optimizers' (C:\\Users\\Mask\\anaconda3\\lib\\site-packages\\keras\\optimizers.py)",
     "output_type": "error",
     "traceback": [
      "\u001b[1;31m---------------------------------------------------------------------------\u001b[0m",
      "\u001b[1;31mImportError\u001b[0m                               Traceback (most recent call last)",
      "\u001b[1;32m~\\AppData\\Local\\Temp/ipykernel_10080/2704325730.py\u001b[0m in \u001b[0;36m<module>\u001b[1;34m\u001b[0m\n\u001b[0;32m      1\u001b[0m \u001b[1;32mfrom\u001b[0m \u001b[0mkeras\u001b[0m\u001b[1;33m.\u001b[0m\u001b[0mapplications\u001b[0m \u001b[1;32mimport\u001b[0m \u001b[0mvgg16\u001b[0m\u001b[1;33m\u001b[0m\u001b[1;33m\u001b[0m\u001b[0m\n\u001b[1;32m----> 2\u001b[1;33m \u001b[1;32mfrom\u001b[0m \u001b[0mkeras\u001b[0m\u001b[1;33m.\u001b[0m\u001b[0moptimizers\u001b[0m \u001b[1;32mimport\u001b[0m \u001b[0mAdam\u001b[0m\u001b[1;33m\u001b[0m\u001b[1;33m\u001b[0m\u001b[0m\n\u001b[0m\u001b[0;32m      3\u001b[0m \u001b[1;32mfrom\u001b[0m \u001b[0mkeras\u001b[0m\u001b[1;33m.\u001b[0m\u001b[0mmodels\u001b[0m \u001b[1;32mimport\u001b[0m \u001b[0mSequential\u001b[0m\u001b[1;33m\u001b[0m\u001b[1;33m\u001b[0m\u001b[0m\n\u001b[0;32m      4\u001b[0m \u001b[1;32mfrom\u001b[0m \u001b[0mkeras\u001b[0m\u001b[1;33m.\u001b[0m\u001b[0mlayers\u001b[0m \u001b[1;32mimport\u001b[0m \u001b[0mInputLayer\u001b[0m\u001b[1;33m,\u001b[0m\u001b[0mFlatten\u001b[0m\u001b[1;33m,\u001b[0m\u001b[0mDense\u001b[0m\u001b[1;33m,\u001b[0m\u001b[0mBatchNormalization\u001b[0m\u001b[1;33m\u001b[0m\u001b[1;33m\u001b[0m\u001b[0m\n\u001b[0;32m      5\u001b[0m \u001b[1;32mfrom\u001b[0m \u001b[0mkeras\u001b[0m\u001b[1;33m.\u001b[0m\u001b[0mpreprocessing\u001b[0m\u001b[1;33m.\u001b[0m\u001b[0mimage\u001b[0m \u001b[1;32mimport\u001b[0m \u001b[0mImageDataGenerator\u001b[0m\u001b[1;33m\u001b[0m\u001b[1;33m\u001b[0m\u001b[0m\n",
      "\u001b[1;31mImportError\u001b[0m: cannot import name 'Adam' from 'keras.optimizers' (C:\\Users\\Mask\\anaconda3\\lib\\site-packages\\keras\\optimizers.py)"
     ]
    }
   ],
   "source": [
    "from keras.applications import vgg16\n",
    "from keras.optimizers import Adam\n",
    "from keras.models import Sequential\n",
    "from keras.layers import InputLayer,Flatten,Dense,BatchNormalization\n",
    "from keras.preprocessing.image import ImageDataGenerator\n",
    "import numpy as np\n",
    "import os"
   ]
  },
  {
   "cell_type": "code",
   "execution_count": 2,
   "metadata": {
    "executionInfo": {
     "elapsed": 396,
     "status": "ok",
     "timestamp": 1623909172057,
     "user": {
      "displayName": "Axis India Machine Learning",
      "photoUrl": "https://lh3.googleusercontent.com/a-/AOh14Gj-ae171kd--3vHxZ1s3GOc45mMB1L-tiekBKF0pA=s64",
      "userId": "00282416292390226652"
     },
     "user_tz": -330
    },
    "id": "cDhQh_ptLxGy"
   },
   "outputs": [],
   "source": [
    "datagen = ImageDataGenerator()"
   ]
  },
  {
   "cell_type": "code",
   "execution_count": 3,
   "metadata": {
    "executionInfo": {
     "elapsed": 694,
     "status": "ok",
     "timestamp": 1623909173993,
     "user": {
      "displayName": "Axis India Machine Learning",
      "photoUrl": "https://lh3.googleusercontent.com/a-/AOh14Gj-ae171kd--3vHxZ1s3GOc45mMB1L-tiekBKF0pA=s64",
      "userId": "00282416292390226652"
     },
     "user_tz": -330
    },
    "id": "f6OHEFIUNF-W"
   },
   "outputs": [],
   "source": [
    "conv_base = vgg16.VGG16(include_top=False,input_shape=(32,32,3))"
   ]
  },
  {
   "cell_type": "code",
   "execution_count": 4,
   "metadata": {
    "executionInfo": {
     "elapsed": 530,
     "status": "ok",
     "timestamp": 1623909176602,
     "user": {
      "displayName": "Axis India Machine Learning",
      "photoUrl": "https://lh3.googleusercontent.com/a-/AOh14Gj-ae171kd--3vHxZ1s3GOc45mMB1L-tiekBKF0pA=s64",
      "userId": "00282416292390226652"
     },
     "user_tz": -330
    },
    "id": "M8jEsgUVNiVU"
   },
   "outputs": [],
   "source": [
    "conv_base.trainable = False"
   ]
  },
  {
   "cell_type": "code",
   "execution_count": 5,
   "metadata": {
    "executionInfo": {
     "elapsed": 3,
     "status": "ok",
     "timestamp": 1623909178300,
     "user": {
      "displayName": "Axis India Machine Learning",
      "photoUrl": "https://lh3.googleusercontent.com/a-/AOh14Gj-ae171kd--3vHxZ1s3GOc45mMB1L-tiekBKF0pA=s64",
      "userId": "00282416292390226652"
     },
     "user_tz": -330
    },
    "id": "58mqfWF8NnTo"
   },
   "outputs": [],
   "source": [
    "base_dir = \"/content/drive/MyDrive/DevanagariHandwrittenCharacterDataset\""
   ]
  },
  {
   "cell_type": "code",
   "execution_count": 6,
   "metadata": {
    "executionInfo": {
     "elapsed": 2,
     "status": "ok",
     "timestamp": 1623909179584,
     "user": {
      "displayName": "Axis India Machine Learning",
      "photoUrl": "https://lh3.googleusercontent.com/a-/AOh14Gj-ae171kd--3vHxZ1s3GOc45mMB1L-tiekBKF0pA=s64",
      "userId": "00282416292390226652"
     },
     "user_tz": -330
    },
    "id": "UYmaX-5IOABB"
   },
   "outputs": [],
   "source": [
    "training_dir = os.path.join(base_dir,\"Train\")\n",
    "cv_dir = os.path.join(base_dir,\"cv\")\n",
    "testing_dir = os.path.join(base_dir,\"Test\")"
   ]
  },
  {
   "cell_type": "code",
   "execution_count": 7,
   "metadata": {
    "colab": {
     "base_uri": "https://localhost:8080/"
    },
    "executionInfo": {
     "elapsed": 338,
     "status": "ok",
     "timestamp": 1623909181237,
     "user": {
      "displayName": "Axis India Machine Learning",
      "photoUrl": "https://lh3.googleusercontent.com/a-/AOh14Gj-ae171kd--3vHxZ1s3GOc45mMB1L-tiekBKF0pA=s64",
      "userId": "00282416292390226652"
     },
     "user_tz": -330
    },
    "id": "4hN6JkJtOV-c",
    "outputId": "a6ad1d3e-f851-49a2-fa6f-cffd8cf73f9d",
    "scrolled": true
   },
   "outputs": [
    {
     "name": "stdout",
     "output_type": "stream",
     "text": [
      "Model: \"vgg16\"\n",
      "_________________________________________________________________\n",
      "Layer (type)                 Output Shape              Param #   \n",
      "=================================================================\n",
      "input_1 (InputLayer)         [(None, 32, 32, 3)]       0         \n",
      "_________________________________________________________________\n",
      "block1_conv1 (Conv2D)        (None, 32, 32, 64)        1792      \n",
      "_________________________________________________________________\n",
      "block1_conv2 (Conv2D)        (None, 32, 32, 64)        36928     \n",
      "_________________________________________________________________\n",
      "block1_pool (MaxPooling2D)   (None, 16, 16, 64)        0         \n",
      "_________________________________________________________________\n",
      "block2_conv1 (Conv2D)        (None, 16, 16, 128)       73856     \n",
      "_________________________________________________________________\n",
      "block2_conv2 (Conv2D)        (None, 16, 16, 128)       147584    \n",
      "_________________________________________________________________\n",
      "block2_pool (MaxPooling2D)   (None, 8, 8, 128)         0         \n",
      "_________________________________________________________________\n",
      "block3_conv1 (Conv2D)        (None, 8, 8, 256)         295168    \n",
      "_________________________________________________________________\n",
      "block3_conv2 (Conv2D)        (None, 8, 8, 256)         590080    \n",
      "_________________________________________________________________\n",
      "block3_conv3 (Conv2D)        (None, 8, 8, 256)         590080    \n",
      "_________________________________________________________________\n",
      "block3_pool (MaxPooling2D)   (None, 4, 4, 256)         0         \n",
      "_________________________________________________________________\n",
      "block4_conv1 (Conv2D)        (None, 4, 4, 512)         1180160   \n",
      "_________________________________________________________________\n",
      "block4_conv2 (Conv2D)        (None, 4, 4, 512)         2359808   \n",
      "_________________________________________________________________\n",
      "block4_conv3 (Conv2D)        (None, 4, 4, 512)         2359808   \n",
      "_________________________________________________________________\n",
      "block4_pool (MaxPooling2D)   (None, 2, 2, 512)         0         \n",
      "_________________________________________________________________\n",
      "block5_conv1 (Conv2D)        (None, 2, 2, 512)         2359808   \n",
      "_________________________________________________________________\n",
      "block5_conv2 (Conv2D)        (None, 2, 2, 512)         2359808   \n",
      "_________________________________________________________________\n",
      "block5_conv3 (Conv2D)        (None, 2, 2, 512)         2359808   \n",
      "_________________________________________________________________\n",
      "block5_pool (MaxPooling2D)   (None, 1, 1, 512)         0         \n",
      "=================================================================\n",
      "Total params: 14,714,688\n",
      "Trainable params: 0\n",
      "Non-trainable params: 14,714,688\n",
      "_________________________________________________________________\n"
     ]
    }
   ],
   "source": [
    "conv_base.summary()"
   ]
  },
  {
   "cell_type": "code",
   "execution_count": 9,
   "metadata": {
    "executionInfo": {
     "elapsed": 392,
     "status": "ok",
     "timestamp": 1623909200301,
     "user": {
      "displayName": "Axis India Machine Learning",
      "photoUrl": "https://lh3.googleusercontent.com/a-/AOh14Gj-ae171kd--3vHxZ1s3GOc45mMB1L-tiekBKF0pA=s64",
      "userId": "00282416292390226652"
     },
     "user_tz": -330
    },
    "id": "a9-epTcXOhJL"
   },
   "outputs": [],
   "source": [
    "def fetch_conv_base_output(train_cv_test_dir,train_cv_test_size):\n",
    "\n",
    "  conv_base_output = np.zeros(shape=(train_cv_test_size,1,1,512))\n",
    "  train_cv_test_labels = np.zeros(shape=(train_cv_test_size,46))\n",
    "\n",
    "  train_cv_test_datagen = datagen.flow_from_directory(directory=train_cv_test_dir,\n",
    "                                               target_size=(32,32),classes=os.listdir(train_cv_test_dir),batch_size=40)\n",
    "  \n",
    "  i = 0\n",
    "  batch_size = 40\n",
    "\n",
    "  for input_images_batch,labels_batch in train_cv_test_datagen:\n",
    "\n",
    "    conv_base_output_batch = conv_base.predict(input_images_batch)\n",
    "    conv_base_output[i*batch_size:(i+1)*batch_size] = conv_base_output_batch\n",
    "    train_cv_test_labels[i*batch_size:(i+1)*batch_size] = labels_batch\n",
    "    i = i + 1\n",
    "\n",
    "    print(\"Processed Batch Number\",i)\n",
    "\n",
    "    if i*batch_size >= train_cv_test_size:\n",
    "      break\n",
    "\n",
    "  return conv_base_output,train_cv_test_labels "
   ]
  },
  {
   "cell_type": "code",
   "execution_count": 10,
   "metadata": {
    "colab": {
     "base_uri": "https://localhost:8080/"
    },
    "executionInfo": {
     "elapsed": 2827656,
     "status": "ok",
     "timestamp": 1623912047973,
     "user": {
      "displayName": "Axis India Machine Learning",
      "photoUrl": "https://lh3.googleusercontent.com/a-/AOh14Gj-ae171kd--3vHxZ1s3GOc45mMB1L-tiekBKF0pA=s64",
      "userId": "00282416292390226652"
     },
     "user_tz": -330
    },
    "id": "oDupV0ffTYwT",
    "outputId": "223736d0-b6b1-411c-a11f-109a56a87fdc",
    "scrolled": true
   },
   "outputs": [
    {
     "name": "stdout",
     "output_type": "stream",
     "text": [
      "Found 13800 images belonging to 46 classes.\n",
      "Processed Batch Number 1\n",
      "Processed Batch Number 2\n",
      "Processed Batch Number 3\n",
      "Processed Batch Number 4\n",
      "Processed Batch Number 5\n",
      "Processed Batch Number 6\n",
      "Processed Batch Number 7\n",
      "Processed Batch Number 8\n",
      "Processed Batch Number 9\n",
      "Processed Batch Number 10\n",
      "Processed Batch Number 11\n",
      "Processed Batch Number 12\n",
      "Processed Batch Number 13\n",
      "Processed Batch Number 14\n",
      "Processed Batch Number 15\n",
      "Processed Batch Number 16\n",
      "Processed Batch Number 17\n",
      "Processed Batch Number 18\n",
      "Processed Batch Number 19\n",
      "Processed Batch Number 20\n",
      "Processed Batch Number 21\n",
      "Processed Batch Number 22\n",
      "Processed Batch Number 23\n",
      "Processed Batch Number 24\n",
      "Processed Batch Number 25\n",
      "Processed Batch Number 26\n",
      "Processed Batch Number 27\n",
      "Processed Batch Number 28\n",
      "Processed Batch Number 29\n",
      "Processed Batch Number 30\n",
      "Processed Batch Number 31\n",
      "Processed Batch Number 32\n",
      "Processed Batch Number 33\n",
      "Processed Batch Number 34\n",
      "Processed Batch Number 35\n",
      "Processed Batch Number 36\n",
      "Processed Batch Number 37\n",
      "Processed Batch Number 38\n",
      "Processed Batch Number 39\n",
      "Processed Batch Number 40\n",
      "Processed Batch Number 41\n",
      "Processed Batch Number 42\n",
      "Processed Batch Number 43\n",
      "Processed Batch Number 44\n",
      "Processed Batch Number 45\n",
      "Processed Batch Number 46\n",
      "Processed Batch Number 47\n",
      "Processed Batch Number 48\n",
      "Processed Batch Number 49\n",
      "Processed Batch Number 50\n",
      "Processed Batch Number 51\n",
      "Processed Batch Number 52\n",
      "Processed Batch Number 53\n",
      "Processed Batch Number 54\n",
      "Processed Batch Number 55\n",
      "Processed Batch Number 56\n",
      "Processed Batch Number 57\n",
      "Processed Batch Number 58\n",
      "Processed Batch Number 59\n",
      "Processed Batch Number 60\n",
      "Processed Batch Number 61\n",
      "Processed Batch Number 62\n",
      "Processed Batch Number 63\n",
      "Processed Batch Number 64\n",
      "Processed Batch Number 65\n",
      "Processed Batch Number 66\n",
      "Processed Batch Number 67\n",
      "Processed Batch Number 68\n",
      "Processed Batch Number 69\n",
      "Processed Batch Number 70\n",
      "Processed Batch Number 71\n",
      "Processed Batch Number 72\n",
      "Processed Batch Number 73\n",
      "Processed Batch Number 74\n",
      "Processed Batch Number 75\n",
      "Processed Batch Number 76\n",
      "Processed Batch Number 77\n",
      "Processed Batch Number 78\n",
      "Processed Batch Number 79\n",
      "Processed Batch Number 80\n",
      "Processed Batch Number 81\n",
      "Processed Batch Number 82\n",
      "Processed Batch Number 83\n",
      "Processed Batch Number 84\n",
      "Processed Batch Number 85\n",
      "Processed Batch Number 86\n",
      "Processed Batch Number 87\n",
      "Processed Batch Number 88\n",
      "Processed Batch Number 89\n",
      "Processed Batch Number 90\n",
      "Processed Batch Number 91\n",
      "Processed Batch Number 92\n",
      "Processed Batch Number 93\n",
      "Processed Batch Number 94\n",
      "Processed Batch Number 95\n",
      "Processed Batch Number 96\n",
      "Processed Batch Number 97\n",
      "Processed Batch Number 98\n",
      "Processed Batch Number 99\n",
      "Processed Batch Number 100\n",
      "Processed Batch Number 101\n",
      "Processed Batch Number 102\n",
      "Processed Batch Number 103\n",
      "Processed Batch Number 104\n",
      "Processed Batch Number 105\n",
      "Processed Batch Number 106\n",
      "Processed Batch Number 107\n",
      "Processed Batch Number 108\n",
      "Processed Batch Number 109\n",
      "Processed Batch Number 110\n",
      "Processed Batch Number 111\n",
      "Processed Batch Number 112\n",
      "Processed Batch Number 113\n",
      "Processed Batch Number 114\n",
      "Processed Batch Number 115\n",
      "Processed Batch Number 116\n",
      "Processed Batch Number 117\n",
      "Processed Batch Number 118\n",
      "Processed Batch Number 119\n",
      "Processed Batch Number 120\n",
      "Processed Batch Number 121\n",
      "Processed Batch Number 122\n",
      "Processed Batch Number 123\n",
      "Processed Batch Number 124\n",
      "Processed Batch Number 125\n",
      "Processed Batch Number 126\n",
      "Processed Batch Number 127\n",
      "Processed Batch Number 128\n",
      "Processed Batch Number 129\n",
      "Processed Batch Number 130\n",
      "Processed Batch Number 131\n",
      "Processed Batch Number 132\n",
      "Processed Batch Number 133\n",
      "Processed Batch Number 134\n",
      "Processed Batch Number 135\n",
      "Processed Batch Number 136\n",
      "Processed Batch Number 137\n",
      "Processed Batch Number 138\n",
      "Processed Batch Number 139\n",
      "Processed Batch Number 140\n",
      "Processed Batch Number 141\n",
      "Processed Batch Number 142\n",
      "Processed Batch Number 143\n",
      "Processed Batch Number 144\n",
      "Processed Batch Number 145\n",
      "Processed Batch Number 146\n",
      "Processed Batch Number 147\n",
      "Processed Batch Number 148\n",
      "Processed Batch Number 149\n",
      "Processed Batch Number 150\n",
      "Processed Batch Number 151\n",
      "Processed Batch Number 152\n",
      "Processed Batch Number 153\n",
      "Processed Batch Number 154\n",
      "Processed Batch Number 155\n",
      "Processed Batch Number 156\n",
      "Processed Batch Number 157\n",
      "Processed Batch Number 158\n",
      "Processed Batch Number 159\n",
      "Processed Batch Number 160\n",
      "Processed Batch Number 161\n",
      "Processed Batch Number 162\n",
      "Processed Batch Number 163\n",
      "Processed Batch Number 164\n",
      "Processed Batch Number 165\n",
      "Processed Batch Number 166\n",
      "Processed Batch Number 167\n",
      "Processed Batch Number 168\n",
      "Processed Batch Number 169\n",
      "Processed Batch Number 170\n",
      "Processed Batch Number 171\n",
      "Processed Batch Number 172\n",
      "Processed Batch Number 173\n",
      "Processed Batch Number 174\n",
      "Processed Batch Number 175\n",
      "Processed Batch Number 176\n",
      "Processed Batch Number 177\n",
      "Processed Batch Number 178\n",
      "Processed Batch Number 179\n",
      "Processed Batch Number 180\n",
      "Processed Batch Number 181\n",
      "Processed Batch Number 182\n",
      "Processed Batch Number 183\n",
      "Processed Batch Number 184\n",
      "Processed Batch Number 185\n",
      "Processed Batch Number 186\n",
      "Processed Batch Number 187\n",
      "Processed Batch Number 188\n",
      "Processed Batch Number 189\n",
      "Processed Batch Number 190\n",
      "Processed Batch Number 191\n",
      "Processed Batch Number 192\n",
      "Processed Batch Number 193\n",
      "Processed Batch Number 194\n",
      "Processed Batch Number 195\n",
      "Processed Batch Number 196\n",
      "Processed Batch Number 197\n",
      "Processed Batch Number 198\n",
      "Processed Batch Number 199\n",
      "Processed Batch Number 200\n",
      "Processed Batch Number 201\n",
      "Processed Batch Number 202\n",
      "Processed Batch Number 203\n",
      "Processed Batch Number 204\n",
      "Processed Batch Number 205\n",
      "Processed Batch Number 206\n",
      "Processed Batch Number 207\n",
      "Processed Batch Number 208\n",
      "Processed Batch Number 209\n",
      "Processed Batch Number 210\n",
      "Processed Batch Number 211\n",
      "Processed Batch Number 212\n",
      "Processed Batch Number 213\n",
      "Processed Batch Number 214\n",
      "Processed Batch Number 215\n",
      "Processed Batch Number 216\n",
      "Processed Batch Number 217\n",
      "Processed Batch Number 218\n",
      "Processed Batch Number 219\n",
      "Processed Batch Number 220\n",
      "Processed Batch Number 221\n",
      "Processed Batch Number 222\n",
      "Processed Batch Number 223\n",
      "Processed Batch Number 224\n",
      "Processed Batch Number 225\n",
      "Processed Batch Number 226\n",
      "Processed Batch Number 227\n",
      "Processed Batch Number 228\n",
      "Processed Batch Number 229\n",
      "Processed Batch Number 230\n",
      "Processed Batch Number 231\n",
      "Processed Batch Number 232\n",
      "Processed Batch Number 233\n",
      "Processed Batch Number 234\n",
      "Processed Batch Number 235\n",
      "Processed Batch Number 236\n",
      "Processed Batch Number 237\n",
      "Processed Batch Number 238\n",
      "Processed Batch Number 239\n",
      "Processed Batch Number 240\n",
      "Processed Batch Number 241\n",
      "Processed Batch Number 242\n",
      "Processed Batch Number 243\n",
      "Processed Batch Number 244\n",
      "Processed Batch Number 245\n",
      "Processed Batch Number 246\n",
      "Processed Batch Number 247\n",
      "Processed Batch Number 248\n",
      "Processed Batch Number 249\n",
      "Processed Batch Number 250\n",
      "Processed Batch Number 251\n",
      "Processed Batch Number 252\n",
      "Processed Batch Number 253\n",
      "Processed Batch Number 254\n",
      "Processed Batch Number 255\n",
      "Processed Batch Number 256\n",
      "Processed Batch Number 257\n",
      "Processed Batch Number 258\n",
      "Processed Batch Number 259\n",
      "Processed Batch Number 260\n",
      "Processed Batch Number 261\n",
      "Processed Batch Number 262\n",
      "Processed Batch Number 263\n",
      "Processed Batch Number 264\n",
      "Processed Batch Number 265\n",
      "Processed Batch Number 266\n",
      "Processed Batch Number 267\n",
      "Processed Batch Number 268\n",
      "Processed Batch Number 269\n",
      "Processed Batch Number 270\n",
      "Processed Batch Number 271\n",
      "Processed Batch Number 272\n",
      "Processed Batch Number 273\n",
      "Processed Batch Number 274\n",
      "Processed Batch Number 275\n",
      "Processed Batch Number 276\n",
      "Processed Batch Number 277\n",
      "Processed Batch Number 278\n",
      "Processed Batch Number 279\n",
      "Processed Batch Number 280\n",
      "Processed Batch Number 281\n",
      "Processed Batch Number 282\n",
      "Processed Batch Number 283\n",
      "Processed Batch Number 284\n",
      "Processed Batch Number 285\n",
      "Processed Batch Number 286\n",
      "Processed Batch Number 287\n",
      "Processed Batch Number 288\n",
      "Processed Batch Number 289\n",
      "Processed Batch Number 290\n",
      "Processed Batch Number 291\n",
      "Processed Batch Number 292\n",
      "Processed Batch Number 293\n",
      "Processed Batch Number 294\n",
      "Processed Batch Number 295\n",
      "Processed Batch Number 296\n",
      "Processed Batch Number 297\n",
      "Processed Batch Number 298\n",
      "Processed Batch Number 299\n",
      "Processed Batch Number 300\n",
      "Processed Batch Number 301\n",
      "Processed Batch Number 302\n",
      "Processed Batch Number 303\n",
      "Processed Batch Number 304\n",
      "Processed Batch Number 305\n",
      "Processed Batch Number 306\n",
      "Processed Batch Number 307\n",
      "Processed Batch Number 308\n",
      "Processed Batch Number 309\n",
      "Processed Batch Number 310\n",
      "Processed Batch Number 311\n",
      "Processed Batch Number 312\n",
      "Processed Batch Number 313\n",
      "Processed Batch Number 314\n",
      "Processed Batch Number 315\n",
      "Processed Batch Number 316\n",
      "Processed Batch Number 317\n",
      "Processed Batch Number 318\n",
      "Processed Batch Number 319\n",
      "Processed Batch Number 320\n",
      "Processed Batch Number 321\n",
      "Processed Batch Number 322\n",
      "Processed Batch Number 323\n",
      "Processed Batch Number 324\n",
      "Processed Batch Number 325\n",
      "Processed Batch Number 326\n",
      "Processed Batch Number 327\n",
      "Processed Batch Number 328\n",
      "Processed Batch Number 329\n",
      "Processed Batch Number 330\n",
      "Processed Batch Number 331\n",
      "Processed Batch Number 332\n",
      "Processed Batch Number 333\n",
      "Processed Batch Number 334\n",
      "Processed Batch Number 335\n",
      "Processed Batch Number 336\n",
      "Processed Batch Number 337\n",
      "Processed Batch Number 338\n",
      "Processed Batch Number 339\n",
      "Processed Batch Number 340\n",
      "Processed Batch Number 341\n",
      "Processed Batch Number 342\n",
      "Processed Batch Number 343\n",
      "Processed Batch Number 344\n",
      "Processed Batch Number 345\n"
     ]
    }
   ],
   "source": [
    "conv_base_test_output = fetch_conv_base_output(testing_dir,13800)"
   ]
  },
  {
   "cell_type": "code",
   "execution_count": 19,
   "metadata": {
    "executionInfo": {
     "elapsed": 359,
     "status": "ok",
     "timestamp": 1623912770987,
     "user": {
      "displayName": "Axis India Machine Learning",
      "photoUrl": "https://lh3.googleusercontent.com/a-/AOh14Gj-ae171kd--3vHxZ1s3GOc45mMB1L-tiekBKF0pA=s64",
      "userId": "00282416292390226652"
     },
     "user_tz": -330
    },
    "id": "Ud2w5y8-gRUu"
   },
   "outputs": [],
   "source": [
    "def build_network():\n",
    "\n",
    "  network = Sequential()\n",
    "  network.add(InputLayer(input_shape=(1,1,512)))\n",
    "  network.add(Flatten())\n",
    "  network.add(Dense(units=512,activation=\"relu\"))\n",
    "  network.add(Dense(units=46,activation=\"softmax\"))\n",
    "\n",
    "  network.compile(optimizer=Adam(),loss=\"categorical_crossentropy\",metrics=[\"accuracy\"])\n",
    "\n",
    "  return network"
   ]
  },
  {
   "cell_type": "code",
   "execution_count": 14,
   "metadata": {
    "colab": {
     "base_uri": "https://localhost:8080/"
    },
    "executionInfo": {
     "elapsed": 332,
     "status": "ok",
     "timestamp": 1623912397884,
     "user": {
      "displayName": "Axis India Machine Learning",
      "photoUrl": "https://lh3.googleusercontent.com/a-/AOh14Gj-ae171kd--3vHxZ1s3GOc45mMB1L-tiekBKF0pA=s64",
      "userId": "00282416292390226652"
     },
     "user_tz": -330
    },
    "id": "eeUTgV5Btv2t",
    "outputId": "89fc7bf1-6727-4449-ec78-787d643599a7"
   },
   "outputs": [
    {
     "data": {
      "text/plain": [
       "(13800, 46)"
      ]
     },
     "execution_count": 14,
     "metadata": {
      "tags": []
     },
     "output_type": "execute_result"
    }
   ],
   "source": [
    "conv_base_test_output[1].shape"
   ]
  },
  {
   "cell_type": "code",
   "execution_count": 15,
   "metadata": {
    "executionInfo": {
     "elapsed": 354,
     "status": "ok",
     "timestamp": 1623912486138,
     "user": {
      "displayName": "Axis India Machine Learning",
      "photoUrl": "https://lh3.googleusercontent.com/a-/AOh14Gj-ae171kd--3vHxZ1s3GOc45mMB1L-tiekBKF0pA=s64",
      "userId": "00282416292390226652"
     },
     "user_tz": -330
    },
    "id": "IOAVK_5Wt9Ig"
   },
   "outputs": [],
   "source": [
    "conv_base_test_output_imgs = conv_base_test_output[0]\n",
    "\n",
    "test_labels = conv_base_test_output[1]"
   ]
  },
  {
   "cell_type": "code",
   "execution_count": 29,
   "metadata": {
    "executionInfo": {
     "elapsed": 362,
     "status": "ok",
     "timestamp": 1623913651953,
     "user": {
      "displayName": "Axis India Machine Learning",
      "photoUrl": "https://lh3.googleusercontent.com/a-/AOh14Gj-ae171kd--3vHxZ1s3GOc45mMB1L-tiekBKF0pA=s64",
      "userId": "00282416292390226652"
     },
     "user_tz": -330
    },
    "id": "J7csvWV6yAQW"
   },
   "outputs": [],
   "source": [
    "images_tensor_file_handle = open(\"/content/drive/MyDrive/Colab Notebooks/conv_base_output_imgs.npz\",mode=\"w\")\n",
    "\n",
    "labels_file_handle = open(\"/content/drive/MyDrive/Colab Notebooks/test_labels.npz\",mode=\"w\")"
   ]
  },
  {
   "cell_type": "code",
   "execution_count": 1,
   "metadata": {
    "executionInfo": {
     "elapsed": 394,
     "status": "ok",
     "timestamp": 1623913982239,
     "user": {
      "displayName": "Axis India Machine Learning",
      "photoUrl": "https://lh3.googleusercontent.com/a-/AOh14Gj-ae171kd--3vHxZ1s3GOc45mMB1L-tiekBKF0pA=s64",
      "userId": "00282416292390226652"
     },
     "user_tz": -330
    },
    "id": "d_eIGCCT0DRV"
   },
   "outputs": [
    {
     "ename": "NameError",
     "evalue": "name 'np' is not defined",
     "output_type": "error",
     "traceback": [
      "\u001b[1;31m---------------------------------------------------------------------------\u001b[0m",
      "\u001b[1;31mNameError\u001b[0m                                 Traceback (most recent call last)",
      "\u001b[1;32m~\\AppData\\Local\\Temp/ipykernel_10080/3413633590.py\u001b[0m in \u001b[0;36m<module>\u001b[1;34m\u001b[0m\n\u001b[1;32m----> 1\u001b[1;33m \u001b[0mnp\u001b[0m\u001b[1;33m.\u001b[0m\u001b[0msavez\u001b[0m\u001b[1;33m(\u001b[0m\u001b[1;34m\"/content/drive/MyDrive/Colab Notebooks/conv_base_output_imgs.npz\"\u001b[0m\u001b[1;33m,\u001b[0m\u001b[0mconv_base_test_output_imgs\u001b[0m\u001b[1;33m)\u001b[0m\u001b[1;33m\u001b[0m\u001b[1;33m\u001b[0m\u001b[0m\n\u001b[0m\u001b[0;32m      2\u001b[0m \u001b[1;33m\u001b[0m\u001b[0m\n\u001b[0;32m      3\u001b[0m \u001b[0mnp\u001b[0m\u001b[1;33m.\u001b[0m\u001b[0msavez\u001b[0m\u001b[1;33m(\u001b[0m\u001b[1;34m\"/content/drive/MyDrive/Colab Notebooks/test_labels.npz\"\u001b[0m\u001b[1;33m,\u001b[0m\u001b[0mtest_labels\u001b[0m\u001b[1;33m)\u001b[0m\u001b[1;33m\u001b[0m\u001b[1;33m\u001b[0m\u001b[0m\n",
      "\u001b[1;31mNameError\u001b[0m: name 'np' is not defined"
     ]
    }
   ],
   "source": [
    "np.savez(\"/content/drive/MyDrive/Colab Notebooks/conv_base_output_imgs.npz\",conv_base_test_output_imgs)\n",
    "\n",
    "np.savez(\"/content/drive/MyDrive/Colab Notebooks/test_labels.npz\",test_labels)"
   ]
  },
  {
   "cell_type": "code",
   "execution_count": 17,
   "metadata": {
    "colab": {
     "base_uri": "https://localhost:8080/"
    },
    "executionInfo": {
     "elapsed": 373,
     "status": "ok",
     "timestamp": 1623912727829,
     "user": {
      "displayName": "Axis India Machine Learning",
      "photoUrl": "https://lh3.googleusercontent.com/a-/AOh14Gj-ae171kd--3vHxZ1s3GOc45mMB1L-tiekBKF0pA=s64",
      "userId": "00282416292390226652"
     },
     "user_tz": -330
    },
    "id": "tXVL0zREuhFF",
    "outputId": "bc7f839f-56fc-4333-9cb7-c28619ede13a"
   },
   "outputs": [
    {
     "name": "stderr",
     "output_type": "stream",
     "text": [
      "/usr/local/lib/python3.7/dist-packages/keras_preprocessing/image/numpy_array_iterator.py:136: UserWarning: NumpyArrayIterator is set to use the data format convention \"channels_last\" (channels on axis 3), i.e. expected either 1, 3, or 4 channels on axis 3. However, it was passed an array with shape (13800, 1, 1, 512) (512 channels).\n",
      "  str(self.x.shape[channels_axis]) + ' channels).')\n"
     ]
    }
   ],
   "source": [
    "test_datagen = datagen.flow(x=conv_base_test_output_imgs,y=test_labels,batch_size=40)"
   ]
  },
  {
   "cell_type": "code",
   "execution_count": 26,
   "metadata": {
    "executionInfo": {
     "elapsed": 508,
     "status": "ok",
     "timestamp": 1623913251315,
     "user": {
      "displayName": "Axis India Machine Learning",
      "photoUrl": "https://lh3.googleusercontent.com/a-/AOh14Gj-ae171kd--3vHxZ1s3GOc45mMB1L-tiekBKF0pA=s64",
      "userId": "00282416292390226652"
     },
     "user_tz": -330
    },
    "id": "0cY8V4-7vXt4"
   },
   "outputs": [],
   "source": [
    "network = build_network()"
   ]
  },
  {
   "cell_type": "code",
   "execution_count": 21,
   "metadata": {
    "colab": {
     "base_uri": "https://localhost:8080/"
    },
    "executionInfo": {
     "elapsed": 368,
     "status": "ok",
     "timestamp": 1623912786024,
     "user": {
      "displayName": "Axis India Machine Learning",
      "photoUrl": "https://lh3.googleusercontent.com/a-/AOh14Gj-ae171kd--3vHxZ1s3GOc45mMB1L-tiekBKF0pA=s64",
      "userId": "00282416292390226652"
     },
     "user_tz": -330
    },
    "id": "iDUysxldvjxO",
    "outputId": "4fab5605-792e-4d5f-d857-ce9ce5821b0e"
   },
   "outputs": [
    {
     "name": "stdout",
     "output_type": "stream",
     "text": [
      "Model: \"sequential_1\"\n",
      "_________________________________________________________________\n",
      "Layer (type)                 Output Shape              Param #   \n",
      "=================================================================\n",
      "flatten_1 (Flatten)          (None, 512)               0         \n",
      "_________________________________________________________________\n",
      "dense_2 (Dense)              (None, 512)               262656    \n",
      "_________________________________________________________________\n",
      "dense_3 (Dense)              (None, 46)                23598     \n",
      "=================================================================\n",
      "Total params: 286,254\n",
      "Trainable params: 286,254\n",
      "Non-trainable params: 0\n",
      "_________________________________________________________________\n"
     ]
    }
   ],
   "source": [
    "network.summary()"
   ]
  },
  {
   "cell_type": "code",
   "execution_count": 27,
   "metadata": {
    "colab": {
     "base_uri": "https://localhost:8080/"
    },
    "executionInfo": {
     "elapsed": 83913,
     "status": "ok",
     "timestamp": 1623913343556,
     "user": {
      "displayName": "Axis India Machine Learning",
      "photoUrl": "https://lh3.googleusercontent.com/a-/AOh14Gj-ae171kd--3vHxZ1s3GOc45mMB1L-tiekBKF0pA=s64",
      "userId": "00282416292390226652"
     },
     "user_tz": -330
    },
    "id": "b9c4dukvvqST",
    "outputId": "b013b2f1-b065-48bf-bb59-949f13cbddd9"
   },
   "outputs": [
    {
     "name": "stderr",
     "output_type": "stream",
     "text": [
      "/usr/local/lib/python3.7/dist-packages/keras/engine/training.py:1915: UserWarning: `Model.fit_generator` is deprecated and will be removed in a future version. Please use `Model.fit`, which supports generators.\n",
      "  warnings.warn('`Model.fit_generator` is deprecated and '\n"
     ]
    },
    {
     "name": "stdout",
     "output_type": "stream",
     "text": [
      "Epoch 1/35\n",
      "345/345 [==============================] - 3s 6ms/step - loss: 5.1659 - accuracy: 0.3657\n",
      "Epoch 2/35\n",
      "345/345 [==============================] - 2s 6ms/step - loss: 1.0832 - accuracy: 0.7040\n",
      "Epoch 3/35\n",
      "345/345 [==============================] - 2s 6ms/step - loss: 0.7551 - accuracy: 0.7708\n",
      "Epoch 4/35\n",
      "345/345 [==============================] - 2s 6ms/step - loss: 0.5860 - accuracy: 0.8200\n",
      "Epoch 5/35\n",
      "345/345 [==============================] - 2s 6ms/step - loss: 0.5364 - accuracy: 0.8382\n",
      "Epoch 6/35\n",
      "345/345 [==============================] - 2s 6ms/step - loss: 0.4373 - accuracy: 0.8592\n",
      "Epoch 7/35\n",
      "345/345 [==============================] - 2s 6ms/step - loss: 0.3980 - accuracy: 0.8714\n",
      "Epoch 8/35\n",
      "345/345 [==============================] - 2s 6ms/step - loss: 0.3605 - accuracy: 0.8834\n",
      "Epoch 9/35\n",
      "345/345 [==============================] - 2s 6ms/step - loss: 0.3331 - accuracy: 0.8884\n",
      "Epoch 10/35\n",
      "345/345 [==============================] - 2s 6ms/step - loss: 0.3135 - accuracy: 0.9007\n",
      "Epoch 11/35\n",
      "345/345 [==============================] - 2s 6ms/step - loss: 0.2766 - accuracy: 0.9072\n",
      "Epoch 12/35\n",
      "345/345 [==============================] - 2s 6ms/step - loss: 0.2818 - accuracy: 0.9106\n",
      "Epoch 13/35\n",
      "345/345 [==============================] - 2s 6ms/step - loss: 0.2946 - accuracy: 0.9030\n",
      "Epoch 14/35\n",
      "345/345 [==============================] - 2s 6ms/step - loss: 0.2182 - accuracy: 0.9263\n",
      "Epoch 15/35\n",
      "345/345 [==============================] - 2s 6ms/step - loss: 0.1859 - accuracy: 0.9356\n",
      "Epoch 16/35\n",
      "345/345 [==============================] - 2s 6ms/step - loss: 0.2009 - accuracy: 0.9311\n",
      "Epoch 17/35\n",
      "345/345 [==============================] - 2s 6ms/step - loss: 0.1849 - accuracy: 0.9410\n",
      "Epoch 18/35\n",
      "345/345 [==============================] - 2s 6ms/step - loss: 0.1862 - accuracy: 0.9367\n",
      "Epoch 19/35\n",
      "345/345 [==============================] - 2s 6ms/step - loss: 0.1587 - accuracy: 0.9466\n",
      "Epoch 20/35\n",
      "345/345 [==============================] - 2s 6ms/step - loss: 0.1495 - accuracy: 0.9471\n",
      "Epoch 21/35\n",
      "345/345 [==============================] - 2s 6ms/step - loss: 0.1619 - accuracy: 0.9463\n",
      "Epoch 22/35\n",
      "345/345 [==============================] - 2s 6ms/step - loss: 0.1517 - accuracy: 0.9513\n",
      "Epoch 23/35\n",
      "345/345 [==============================] - 2s 6ms/step - loss: 0.1945 - accuracy: 0.9379\n",
      "Epoch 24/35\n",
      "345/345 [==============================] - 2s 6ms/step - loss: 0.1674 - accuracy: 0.9482\n",
      "Epoch 25/35\n",
      "345/345 [==============================] - 2s 6ms/step - loss: 0.1360 - accuracy: 0.9560\n",
      "Epoch 26/35\n",
      "345/345 [==============================] - 2s 6ms/step - loss: 0.1388 - accuracy: 0.9570\n",
      "Epoch 27/35\n",
      "345/345 [==============================] - 2s 6ms/step - loss: 0.1347 - accuracy: 0.9521\n",
      "Epoch 28/35\n",
      "345/345 [==============================] - 2s 6ms/step - loss: 0.1243 - accuracy: 0.9643\n",
      "Epoch 29/35\n",
      "345/345 [==============================] - 2s 6ms/step - loss: 0.0858 - accuracy: 0.9705\n",
      "Epoch 30/35\n",
      "345/345 [==============================] - 2s 6ms/step - loss: 0.1278 - accuracy: 0.9573\n",
      "Epoch 31/35\n",
      "345/345 [==============================] - 2s 6ms/step - loss: 0.1116 - accuracy: 0.9654\n",
      "Epoch 32/35\n",
      "345/345 [==============================] - 2s 6ms/step - loss: 0.1179 - accuracy: 0.9605\n",
      "Epoch 33/35\n",
      "345/345 [==============================] - 2s 6ms/step - loss: 0.1265 - accuracy: 0.9619\n",
      "Epoch 34/35\n",
      "345/345 [==============================] - 2s 6ms/step - loss: 0.0874 - accuracy: 0.9696\n",
      "Epoch 35/35\n",
      "345/345 [==============================] - 2s 6ms/step - loss: 0.1178 - accuracy: 0.9653\n"
     ]
    },
    {
     "data": {
      "text/plain": [
       "<keras.callbacks.History at 0x7ff1bed660d0>"
      ]
     },
     "execution_count": 27,
     "metadata": {
      "tags": []
     },
     "output_type": "execute_result"
    }
   ],
   "source": [
    "network.fit_generator(generator=test_datagen,epochs=35,workers=2,use_multiprocessing=True)"
   ]
  },
  {
   "cell_type": "code",
   "execution_count": null,
   "metadata": {
    "id": "Ax3mBfFmwcgd"
   },
   "outputs": [],
   "source": []
  }
 ],
 "metadata": {
  "accelerator": "TPU",
  "colab": {
   "authorship_tag": "ABX9TyOURtxLaFN2/DSAw4zIhSNx",
   "collapsed_sections": [],
   "mount_file_id": "1oFZ7jkTZoBYJJBDOU9XD20zG-wM1pBPO",
   "name": "Offline Transfer Learning.ipynb",
   "provenance": []
  },
  "kernelspec": {
   "display_name": "Python 3 (ipykernel)",
   "language": "python",
   "name": "python3"
  },
  "language_info": {
   "codemirror_mode": {
    "name": "ipython",
    "version": 3
   },
   "file_extension": ".py",
   "mimetype": "text/x-python",
   "name": "python",
   "nbconvert_exporter": "python",
   "pygments_lexer": "ipython3",
   "version": "3.8.8"
  }
 },
 "nbformat": 4,
 "nbformat_minor": 1
}
