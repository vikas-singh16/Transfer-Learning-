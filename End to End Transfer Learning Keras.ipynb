{
 "cells": [
  {
   "cell_type": "code",
   "execution_count": 1,
   "metadata": {
    "executionInfo": {
     "elapsed": 2570,
     "status": "ok",
     "timestamp": 1623900551337,
     "user": {
      "displayName": "Axis India Machine Learning",
      "photoUrl": "https://lh3.googleusercontent.com/a-/AOh14Gj-ae171kd--3vHxZ1s3GOc45mMB1L-tiekBKF0pA=s64",
      "userId": "00282416292390226652"
     },
     "user_tz": -330
    },
    "id": "oxVxl0dsqhWO"
   },
   "outputs": [],
   "source": [
    "from keras.applications import vgg16\n",
    "from keras.preprocessing.image import ImageDataGenerator\n",
    "from keras.layers import Dense,Flatten,BatchNormalization\n",
    "from keras.activations import relu\n",
    "from keras.initializers import glorot_uniform\n",
    "from keras.regularizers import l2\n",
    "# from keras.optimizers import Adam\n",
    "from keras.models import Sequential\n",
    "import os"
   ]
  },
  {
   "cell_type": "code",
   "execution_count": 16,
   "metadata": {},
   "outputs": [],
   "source": [
    "from keras.metrics import Precision,Recall"
   ]
  },
  {
   "cell_type": "code",
   "execution_count": 2,
   "metadata": {
    "executionInfo": {
     "elapsed": 3,
     "status": "ok",
     "timestamp": 1623900552728,
     "user": {
      "displayName": "Axis India Machine Learning",
      "photoUrl": "https://lh3.googleusercontent.com/a-/AOh14Gj-ae171kd--3vHxZ1s3GOc45mMB1L-tiekBKF0pA=s64",
      "userId": "00282416292390226652"
     },
     "user_tz": -330
    },
    "id": "SeFS04w8AD_a"
   },
   "outputs": [],
   "source": [
    "data_gen = ImageDataGenerator()"
   ]
  },
  {
   "cell_type": "code",
   "execution_count": 3,
   "metadata": {},
   "outputs": [],
   "source": [
    "base_dir = \"F:/DATASET/hindi Devnagari handwritten Dataset\""
   ]
  },
  {
   "cell_type": "code",
   "execution_count": 4,
   "metadata": {},
   "outputs": [],
   "source": [
    "train_base_dir = os.path.join(base_dir,\"Train\")\n",
    "test_base_dir = os.path.join(base_dir,\"Test\")"
   ]
  },
  {
   "cell_type": "code",
   "execution_count": 5,
   "metadata": {
    "colab": {
     "base_uri": "https://localhost:8080/"
    },
    "executionInfo": {
     "elapsed": 81570,
     "status": "ok",
     "timestamp": 1623900637294,
     "user": {
      "displayName": "Axis India Machine Learning",
      "photoUrl": "https://lh3.googleusercontent.com/a-/AOh14Gj-ae171kd--3vHxZ1s3GOc45mMB1L-tiekBKF0pA=s64",
      "userId": "00282416292390226652"
     },
     "user_tz": -330
    },
    "id": "3iv5zMJbAx5_",
    "outputId": "b243fffd-25e7-4cd9-ac0e-c5ad552c5762"
   },
   "outputs": [
    {
     "name": "stdout",
     "output_type": "stream",
     "text": [
      "Found 78200 images belonging to 46 classes.\n"
     ]
    }
   ],
   "source": [
    "training_datagen = data_gen.flow_from_directory(directory=train_base_dir,\n",
    "                                                target_size=(32,32),color_mode=\"rgb\"\n",
    "                                                ,batch_size=50)"
   ]
  },
  {
   "cell_type": "code",
   "execution_count": 6,
   "metadata": {
    "colab": {
     "base_uri": "https://localhost:8080/"
    },
    "executionInfo": {
     "elapsed": 22745,
     "status": "ok",
     "timestamp": 1623900679147,
     "user": {
      "displayName": "Axis India Machine Learning",
      "photoUrl": "https://lh3.googleusercontent.com/a-/AOh14Gj-ae171kd--3vHxZ1s3GOc45mMB1L-tiekBKF0pA=s64",
      "userId": "00282416292390226652"
     },
     "user_tz": -330
    },
    "id": "VeJZODDDBiuO",
    "outputId": "dd16eca1-76cd-429f-d94d-0ae566ace12d"
   },
   "outputs": [],
   "source": [
    "# cv_datagen = data_gen.flow_from_directory(directory=\"/content/drive/MyDrive/DevanagariHandwrittenCharacterDataset/cv\",\n",
    "#                                                 target_size=(32,32),color_mode=\"rgb\",\n",
    "#                                                 classes=os.listdir(\"/content/drive/MyDrive/DevanagariHandwrittenCharacterDataset/cv\"),batch_size=15640)"
   ]
  },
  {
   "cell_type": "code",
   "execution_count": 7,
   "metadata": {
    "colab": {
     "base_uri": "https://localhost:8080/"
    },
    "executionInfo": {
     "elapsed": 20101,
     "status": "ok",
     "timestamp": 1623900722251,
     "user": {
      "displayName": "Axis India Machine Learning",
      "photoUrl": "https://lh3.googleusercontent.com/a-/AOh14Gj-ae171kd--3vHxZ1s3GOc45mMB1L-tiekBKF0pA=s64",
      "userId": "00282416292390226652"
     },
     "user_tz": -330
    },
    "id": "PQGkV22GCd5O",
    "outputId": "76042035-3ef2-4408-fe30-4fb968222f8a"
   },
   "outputs": [
    {
     "name": "stdout",
     "output_type": "stream",
     "text": [
      "Found 13800 images belonging to 46 classes.\n"
     ]
    }
   ],
   "source": [
    "testing_datagen = data_gen.flow_from_directory(directory=test_base_dir,\n",
    "                                                target_size=(32,32),color_mode=\"rgb\"\n",
    "                                                ,batch_size=13800)"
   ]
  },
  {
   "cell_type": "code",
   "execution_count": 8,
   "metadata": {
    "colab": {
     "base_uri": "https://localhost:8080/"
    },
    "executionInfo": {
     "elapsed": 2027,
     "status": "ok",
     "timestamp": 1623900731549,
     "user": {
      "displayName": "Axis India Machine Learning",
      "photoUrl": "https://lh3.googleusercontent.com/a-/AOh14Gj-ae171kd--3vHxZ1s3GOc45mMB1L-tiekBKF0pA=s64",
      "userId": "00282416292390226652"
     },
     "user_tz": -330
    },
    "id": "D9LdGyI4CrZN",
    "outputId": "c75e121d-6b9a-4f9b-a94c-38cde83a1a8a"
   },
   "outputs": [],
   "source": [
    "conv_base = vgg16.VGG16(include_top=False,input_shape=(32,32,3))"
   ]
  },
  {
   "cell_type": "code",
   "execution_count": 9,
   "metadata": {
    "colab": {
     "base_uri": "https://localhost:8080/"
    },
    "collapsed": true,
    "executionInfo": {
     "elapsed": 413,
     "status": "ok",
     "timestamp": 1623900745333,
     "user": {
      "displayName": "Axis India Machine Learning",
      "photoUrl": "https://lh3.googleusercontent.com/a-/AOh14Gj-ae171kd--3vHxZ1s3GOc45mMB1L-tiekBKF0pA=s64",
      "userId": "00282416292390226652"
     },
     "user_tz": -330
    },
    "id": "nRk6hSM-DBLM",
    "outputId": "4929ae34-c834-4efe-bd02-e0e7a2d36702"
   },
   "outputs": [
    {
     "name": "stdout",
     "output_type": "stream",
     "text": [
      "Model: \"vgg16\"\n",
      "_________________________________________________________________\n",
      " Layer (type)                Output Shape              Param #   \n",
      "=================================================================\n",
      " input_1 (InputLayer)        [(None, 32, 32, 3)]       0         \n",
      "                                                                 \n",
      " block1_conv1 (Conv2D)       (None, 32, 32, 64)        1792      \n",
      "                                                                 \n",
      " block1_conv2 (Conv2D)       (None, 32, 32, 64)        36928     \n",
      "                                                                 \n",
      " block1_pool (MaxPooling2D)  (None, 16, 16, 64)        0         \n",
      "                                                                 \n",
      " block2_conv1 (Conv2D)       (None, 16, 16, 128)       73856     \n",
      "                                                                 \n",
      " block2_conv2 (Conv2D)       (None, 16, 16, 128)       147584    \n",
      "                                                                 \n",
      " block2_pool (MaxPooling2D)  (None, 8, 8, 128)         0         \n",
      "                                                                 \n",
      " block3_conv1 (Conv2D)       (None, 8, 8, 256)         295168    \n",
      "                                                                 \n",
      " block3_conv2 (Conv2D)       (None, 8, 8, 256)         590080    \n",
      "                                                                 \n",
      " block3_conv3 (Conv2D)       (None, 8, 8, 256)         590080    \n",
      "                                                                 \n",
      " block3_pool (MaxPooling2D)  (None, 4, 4, 256)         0         \n",
      "                                                                 \n",
      " block4_conv1 (Conv2D)       (None, 4, 4, 512)         1180160   \n",
      "                                                                 \n",
      " block4_conv2 (Conv2D)       (None, 4, 4, 512)         2359808   \n",
      "                                                                 \n",
      " block4_conv3 (Conv2D)       (None, 4, 4, 512)         2359808   \n",
      "                                                                 \n",
      " block4_pool (MaxPooling2D)  (None, 2, 2, 512)         0         \n",
      "                                                                 \n",
      " block5_conv1 (Conv2D)       (None, 2, 2, 512)         2359808   \n",
      "                                                                 \n",
      " block5_conv2 (Conv2D)       (None, 2, 2, 512)         2359808   \n",
      "                                                                 \n",
      " block5_conv3 (Conv2D)       (None, 2, 2, 512)         2359808   \n",
      "                                                                 \n",
      " block5_pool (MaxPooling2D)  (None, 1, 1, 512)         0         \n",
      "                                                                 \n",
      "=================================================================\n",
      "Total params: 14,714,688\n",
      "Trainable params: 14,714,688\n",
      "Non-trainable params: 0\n",
      "_________________________________________________________________\n"
     ]
    }
   ],
   "source": [
    "conv_base.summary()"
   ]
  },
  {
   "cell_type": "code",
   "execution_count": 10,
   "metadata": {
    "executionInfo": {
     "elapsed": 342,
     "status": "ok",
     "timestamp": 1623900747806,
     "user": {
      "displayName": "Axis India Machine Learning",
      "photoUrl": "https://lh3.googleusercontent.com/a-/AOh14Gj-ae171kd--3vHxZ1s3GOc45mMB1L-tiekBKF0pA=s64",
      "userId": "00282416292390226652"
     },
     "user_tz": -330
    },
    "id": "X6uCAPNhx4Wh"
   },
   "outputs": [],
   "source": [
    "def unfreeze_layers(layer_name):\n",
    "\n",
    "  trainable = False\n",
    "\n",
    "  for layer in conv_base.layers:\n",
    "\n",
    "    if layer.name == layer_name:\n",
    "      trainable = True\n",
    "\n",
    "    if trainable:\n",
    "      layer.trainable = True\n",
    "    else:\n",
    "      layer.trainable = False\n",
    "\n",
    "  return conv_base"
   ]
  },
  {
   "cell_type": "code",
   "execution_count": 18,
   "metadata": {
    "executionInfo": {
     "elapsed": 2,
     "status": "ok",
     "timestamp": 1623900749329,
     "user": {
      "displayName": "Axis India Machine Learning",
      "photoUrl": "https://lh3.googleusercontent.com/a-/AOh14Gj-ae171kd--3vHxZ1s3GOc45mMB1L-tiekBKF0pA=s64",
      "userId": "00282416292390226652"
     },
     "user_tz": -330
    },
    "id": "gWxlLbTnhYLR"
   },
   "outputs": [],
   "source": [
    "def build_network():\n",
    "\n",
    "  network = Sequential()\n",
    "  conv_base = unfreeze_layers(\"block5_conv1\")\n",
    "  network.add(conv_base)\n",
    "  network.add(Flatten())\n",
    "  network.add(Dense(units=512,activation=relu,kernel_initializer=glorot_uniform))\n",
    "  network.add(Dense(units=46,activation=\"softmax\",kernel_initializer=glorot_uniform))\n",
    "\n",
    "  network.compile(optimizer=\"adam\",loss=\"categorical_crossentropy\",metrics=[\"accuracy\" ,Precision(),Recall()])\n",
    "\n",
    "  return network"
   ]
  },
  {
   "cell_type": "code",
   "execution_count": 19,
   "metadata": {
    "executionInfo": {
     "elapsed": 2,
     "status": "ok",
     "timestamp": 1623900750849,
     "user": {
      "displayName": "Axis India Machine Learning",
      "photoUrl": "https://lh3.googleusercontent.com/a-/AOh14Gj-ae171kd--3vHxZ1s3GOc45mMB1L-tiekBKF0pA=s64",
      "userId": "00282416292390226652"
     },
     "user_tz": -330
    },
    "id": "VQ0YeK3WjnJ4"
   },
   "outputs": [],
   "source": [
    "network = build_network()"
   ]
  },
  {
   "cell_type": "code",
   "execution_count": 20,
   "metadata": {
    "colab": {
     "base_uri": "https://localhost:8080/"
    },
    "executionInfo": {
     "elapsed": 3,
     "status": "ok",
     "timestamp": 1623900752463,
     "user": {
      "displayName": "Axis India Machine Learning",
      "photoUrl": "https://lh3.googleusercontent.com/a-/AOh14Gj-ae171kd--3vHxZ1s3GOc45mMB1L-tiekBKF0pA=s64",
      "userId": "00282416292390226652"
     },
     "user_tz": -330
    },
    "id": "cmdffOGijpvf",
    "outputId": "e411ca38-45ee-4f92-a745-be411a4ccedf"
   },
   "outputs": [
    {
     "name": "stdout",
     "output_type": "stream",
     "text": [
      "Model: \"sequential_1\"\n",
      "_________________________________________________________________\n",
      " Layer (type)                Output Shape              Param #   \n",
      "=================================================================\n",
      " vgg16 (Functional)          (None, 1, 1, 512)         14714688  \n",
      "                                                                 \n",
      " flatten_1 (Flatten)         (None, 512)               0         \n",
      "                                                                 \n",
      " dense_2 (Dense)             (None, 512)               262656    \n",
      "                                                                 \n",
      " dense_3 (Dense)             (None, 46)                23598     \n",
      "                                                                 \n",
      "=================================================================\n",
      "Total params: 15,000,942\n",
      "Trainable params: 7,365,678\n",
      "Non-trainable params: 7,635,264\n",
      "_________________________________________________________________\n"
     ]
    }
   ],
   "source": [
    "network.summary()"
   ]
  },
  {
   "cell_type": "code",
   "execution_count": null,
   "metadata": {
    "colab": {
     "base_uri": "https://localhost:8080/",
     "height": 955
    },
    "executionInfo": {
     "elapsed": 792403,
     "status": "error",
     "timestamp": 1623901556314,
     "user": {
      "displayName": "Axis India Machine Learning",
      "photoUrl": "https://lh3.googleusercontent.com/a-/AOh14Gj-ae171kd--3vHxZ1s3GOc45mMB1L-tiekBKF0pA=s64",
      "userId": "00282416292390226652"
     },
     "user_tz": -330
    },
    "id": "7nQHBLayjsTG",
    "outputId": "a101cb94-dd8a-4765-83b8-05c410748f21"
   },
   "outputs": [
    {
     "name": "stdout",
     "output_type": "stream",
     "text": [
      "Epoch 1/2\n",
      "1564/1564 [==============================] - ETA: 0s - loss: 3.8290 - accuracy: 0.0204 - precision: 0.0000e+00 - recall: 0.0000e+00"
     ]
    }
   ],
   "source": [
    "network.fit(training_datagen,validation_data=testing_datagen,epochs=2)"
   ]
  },
  {
   "cell_type": "code",
   "execution_count": null,
   "metadata": {
    "id": "fIbsp9H1k62Z"
   },
   "outputs": [],
   "source": []
  }
 ],
 "metadata": {
  "accelerator": "TPU",
  "colab": {
   "authorship_tag": "ABX9TyOTrilPe6lUgVUolD00rcnR",
   "collapsed_sections": [],
   "mount_file_id": "18RFrOyVZTtq0xcLkeiryT7IG_-Nz0KLO",
   "name": "End to End Transfer Learning Keras.ipynb",
   "provenance": []
  },
  "kernelspec": {
   "display_name": "Python 3 (ipykernel)",
   "language": "python",
   "name": "python3"
  },
  "language_info": {
   "codemirror_mode": {
    "name": "ipython",
    "version": 3
   },
   "file_extension": ".py",
   "mimetype": "text/x-python",
   "name": "python",
   "nbconvert_exporter": "python",
   "pygments_lexer": "ipython3",
   "version": "3.8.8"
  }
 },
 "nbformat": 4,
 "nbformat_minor": 1
}
